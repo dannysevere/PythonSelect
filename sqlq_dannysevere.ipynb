{
 "cells": [
  {
   "cell_type": "code",
   "execution_count": 1,
   "id": "f9693729",
   "metadata": {},
   "outputs": [
    {
     "name": "stdout",
     "output_type": "stream",
     "text": [
      "                         corgname  breed gender  weight  age\n",
      "corgid                                                      \n",
      "1                         Brookie    Pem      F      21  3.5\n",
      "2                   Golden Graham    Pem      M      30  2.0\n",
      "3                          Kraken    Pem     SF      22  3.5\n",
      "4                     Snarla June    Pem     SF      29  3.5\n",
      "5                           Isaac  Cardi     NM      33  4.5\n",
      "6                         Stanley    Pem      M      33  3.5\n",
      "7                         Optimus    Pem      M      25  4.0\n",
      "8                        Gu∂ri∂ur    Pem      F      20  5.0\n",
      "9       Baroness von Fluffyshanks    Pem     SF      22  4.0\n",
      "10                     Prometheus    Pem      M      27  5.0\n",
      "11                 Foxy Stumptail    Pem     NM      29  5.5\n",
      "12                      Drederick    Pem      M      29  4.5\n",
      "13              Lady Wigglebottom    Pem      F      28  4.0\n",
      "14                       Jedediah    Pem     NM      30  4.0\n",
      "15                   Miss Juniper    Pem     SF      21  2.5\n",
      "16            Mary Queen of Corgs    Pem     SF      23  4.5\n",
      "17                        Oatmeal    Pem     SF      26  5.5\n",
      "18                     Cowboy Dan    Pem      M      26  5.5\n",
      "19                    Gareth Bale    Pem     NM      31  5.0\n",
      "20                  Winston Smith  Cardi      M      32  4.5\n",
      "21                          Bucco    Pem      M      32  4.0\n",
      "22                       Fruitcup  Cardi      F      23  2.5\n",
      "23                      Sweet Dee    Pem     SF      20  5.0\n",
      "24                          Sempo    Pem     NM      29  2.5\n",
      "25                           Crow    Pem      M      28  2.0\n"
     ]
    }
   ],
   "source": [
    "#1\n",
    "\n",
    "import pandas as pd\n",
    "import psycopg2 as psy\n",
    "import warnings\n",
    "\n",
    "warnings.filterwarnings(\"ignore\")\n",
    "\n",
    "conn = psy.connect(database='corgirace', \\\n",
    "                   user='dannysevere', \\\n",
    "                   password='Severe21!', \\\n",
    "                   host='dbsevere.ct4e9f3blg2v.us-west-1.rds.amazonaws.com', \\\n",
    "                   port='5432')\n",
    "\n",
    "cursor = conn.cursor()\n",
    "\n",
    "df = pd.read_sql('SELECT * FROM CORGI', conn, index_col='corgid')\n",
    "print(df)"
   ]
  },
  {
   "cell_type": "code",
   "execution_count": 2,
   "id": "8fded984",
   "metadata": {},
   "outputs": [
    {
     "name": "stdout",
     "output_type": "stream",
     "text": [
      "                   racename racestate  race_month  racetemp  racetime\n",
      "0            Del Mar Trophy        CA         6.0        80     64.95\n",
      "1            Memorial Derby        WA         6.0        77     56.27\n",
      "2               Dixie Derby        UT         6.0        95     69.77\n",
      "3       Billings Grand Prix        MT         8.0        95     65.80\n",
      "4                 Idaho Cup        ID         8.0        93     62.79\n",
      "5           Bachelor Stakes        OR         8.0        87     59.25\n",
      "6  Golden Gate Invitational        CA         9.0        81     40.10\n",
      "\n",
      "             racetime  race_month  racetemp\n",
      "racetime    1.000000   -0.580836  0.589349\n",
      "race_month -0.580836    1.000000  0.196781\n",
      "racetemp    0.589349    0.196781  1.000000\n",
      "\n",
      "Theres a moderate correlation between racetime and both race_month and race_temp. For higher temperatures, racetime increases and for later months, racetime decreases.\n",
      "\n",
      "This indicates a relationship between better performance and later, cooler months.\n"
     ]
    }
   ],
   "source": [
    "#2\n",
    "\n",
    "query = '''WITH cte_snar AS (SELECT *\n",
    "            FROM CORGI as c JOIN OUTCOME as o ON c.corgid = o.corgid\n",
    "            where corgname = 'Snarla June')\n",
    "            \n",
    "            SELECT racename, racestate, EXTRACT(MONTH FROM racedate) AS race_month, racetemp, racetime\n",
    "            FROM RACE as r JOIN cte_snar as s ON r.raceid = s.raceid\n",
    "            '''\n",
    "\n",
    "df = pd.read_sql(query, conn)\n",
    "print(df)\n",
    "\n",
    "df_mat = df[['racetime', 'race_month', 'racetemp']]\n",
    "\n",
    "print('\\n', df_mat.corr())\n",
    "print('\\nTheres a moderate correlation between racetime and both race_month and race_temp. For higher temperatures, racetime increases and for later months, racetime decreases.\\n\\nThis indicates a relationship between better performance and later, cooler months.')\n"
   ]
  },
  {
   "cell_type": "code",
   "execution_count": 3,
   "id": "2115f3bc",
   "metadata": {},
   "outputs": [
    {
     "name": "stdout",
     "output_type": "stream",
     "text": [
      "                    corgname  race_cnt  avg_racetime\n",
      "0                      Bucco         4          48.6\n",
      "1                   Fruitcup         5          52.7\n",
      "2              Golden Graham         4          54.2\n",
      "3                       Crow         6          54.8\n",
      "4  Baroness von Fluffyshanks         4          55.2\n",
      "5                Gareth Bale         4          55.3\n",
      "6                      Sempo         6          55.9\n",
      "7              Winston Smith         4          56.0\n",
      "8        Mary Queen of Corgs         4          56.9\n"
     ]
    }
   ],
   "source": [
    "#3\n",
    "\n",
    "query = ''' \n",
    "            SELECT corgname, COUNT(*) AS race_cnt, ROUND(AVG(racetime), 1) AS avg_racetime\n",
    "            FROM CORGI AS c JOIN OUTCOME AS o ON c.corgid = o.corgid\n",
    "            GROUP BY corgname\n",
    "            HAVING AVG(racetime) < 57\n",
    "            ORDER BY AVG(racetime)\n",
    "            ;'''\n",
    "\n",
    "df = pd.read_sql(query, conn)\n",
    "\n",
    "print(df)"
   ]
  },
  {
   "cell_type": "code",
   "execution_count": 4,
   "id": "bcff9072",
   "metadata": {},
   "outputs": [
    {
     "name": "stdout",
     "output_type": "stream",
     "text": [
      "                    racename    racedate  comp_cnt   best  worst\n",
      "0             Del Mar Trophy  2018-06-03        12  41.26  71.46\n",
      "1             Memorial Derby  2018-06-17        10  44.89  71.54\n",
      "2                Dixie Derby  2018-06-24        12  40.74  72.79\n",
      "3               Missions Cup  2018-06-30        13  40.73  71.80\n",
      "4            Borderside Dash  2018-07-21        11  42.75  74.28\n",
      "5               Teton Runoff  2018-07-29        14  48.33  73.49\n",
      "6              Emerald Chase  2018-08-05        12  42.99  72.26\n",
      "7        Billings Grand Prix  2018-08-12        11  42.59  74.93\n",
      "8                  Idaho Cup  2018-08-19        13  44.00  73.36\n",
      "9            Bachelor Stakes  2018-08-26        12  40.07  73.30\n",
      "10  Golden Gate Invitational  2018-09-23        14  40.10  74.54\n"
     ]
    }
   ],
   "source": [
    "#4\n",
    "query = ''' \n",
    "           SELECT racename, racedate, COUNT(*) AS comp_cnt, MIN(racetime) AS best, MAX(racetime) AS worst\n",
    "           FROM RACE as r JOIN OUTCOME as o ON r.raceid = o.raceid \n",
    "           GROUP BY racename, racedate\n",
    "           ORDER BY racedate\n",
    "            ;'''\n",
    "\n",
    "df = pd.read_sql(query, conn)\n",
    "\n",
    "print(df)"
   ]
  },
  {
   "cell_type": "code",
   "execution_count": 5,
   "id": "b318fa0f",
   "metadata": {},
   "outputs": [
    {
     "name": "stdout",
     "output_type": "stream",
     "text": [
      "                   racename    racedate  time_difference\n",
      "0  Golden Gate Invitational  2018-09-23            34.44\n",
      "1           Bachelor Stakes  2018-08-26            33.23\n",
      "2       Billings Grand Prix  2018-08-12            32.34\n"
     ]
    }
   ],
   "source": [
    "#5\n",
    "\n",
    "query = '''WITH ct AS (\n",
    "           SELECT racename, racedate, MIN(racetime) AS best, MAX(racetime) AS worst\n",
    "           FROM RACE as r JOIN OUTCOME as o ON r.raceid = o.raceid \n",
    "           GROUP BY racename, racedate\n",
    "           ORDER BY racedate\n",
    "           ),\n",
    "           \n",
    "           ct2 AS (\n",
    "           SELECT racename, racedate, worst - best AS time_difference\n",
    "           FROM ct\n",
    "           ORDER BY time_difference DESC\n",
    "           LIMIT 3\n",
    "           )\n",
    "           \n",
    "           SELECT racename, racedate, time_difference\n",
    "           FROM ct2\n",
    "            ;'''\n",
    "\n",
    "df = pd.read_sql(query, conn)\n",
    "\n",
    "print(df)"
   ]
  },
  {
   "cell_type": "code",
   "execution_count": 6,
   "id": "867cd146",
   "metadata": {},
   "outputs": [
    {
     "name": "stdout",
     "output_type": "stream",
     "text": [
      "                    racename    racedate  racetemp  racetime_for_stanley\n",
      "0             Del Mar Trophy  2018-06-03        80                 66.97\n",
      "1             Memorial Derby  2018-06-17        77                   NaN\n",
      "2                Dixie Derby  2018-06-24        95                 44.68\n",
      "3               Missions Cup  2018-06-30        73                 49.93\n",
      "4            Borderside Dash  2018-07-21        74                 74.28\n",
      "5               Teton Runoff  2018-07-29        77                   NaN\n",
      "6              Emerald Chase  2018-08-05        89                 62.83\n",
      "7        Billings Grand Prix  2018-08-12        95                   NaN\n",
      "8                  Idaho Cup  2018-08-19        93                   NaN\n",
      "9            Bachelor Stakes  2018-08-26        87                   NaN\n",
      "10  Golden Gate Invitational  2018-09-23        81                 58.02\n"
     ]
    }
   ],
   "source": [
    "#6\n",
    "\n",
    "query = '''WITH ct AS (\n",
    "           SELECT racename, racetime\n",
    "           FROM CORGI c JOIN OUTCOME o ON c.corgid = o.corgid JOIN RACE r ON r.raceid = o.raceid\n",
    "           WHERE corgname = 'Stanley')\n",
    "           \n",
    "           SELECT r.racename, racedate, racetemp, ct.racetime AS racetime_for_stanley\n",
    "           FROM RACE r LEFT JOIN ct ON r.racename = ct.racename\n",
    "           ORDER BY racedate\n",
    "            ;'''\n",
    "\n",
    "df = pd.read_sql(query, conn)\n",
    "\n",
    "print(df)"
   ]
  },
  {
   "cell_type": "code",
   "execution_count": 7,
   "id": "b7b0f3fd",
   "metadata": {},
   "outputs": [
    {
     "name": "stdout",
     "output_type": "stream",
     "text": [
      "                    racename  avg_racetime       sub5  fstcrg_cnt  crg_cnt  \\\n",
      "0            Borderside Dash     58.186364  53.186364           3       11   \n",
      "1               Missions Cup     57.786923  52.786923           5       13   \n",
      "2   Golden Gate Invitational     58.482143  53.482143           5       14   \n",
      "3               Teton Runoff     61.490714  56.490714           5       14   \n",
      "4              Emerald Chase     58.328333  53.328333           4       12   \n",
      "5                Dixie Derby     59.446667  54.446667           4       12   \n",
      "6                  Idaho Cup     57.919231  52.919231           4       13   \n",
      "7            Bachelor Stakes     59.707500  54.707500           3       12   \n",
      "8             Memorial Derby     60.780000  55.780000           3       10   \n",
      "9        Billings Grand Prix     58.852727  53.852727           4       11   \n",
      "10            Del Mar Trophy     57.383333  52.383333           4       12   \n",
      "\n",
      "    fstcrg_percent  \n",
      "0        27.272727  \n",
      "1        38.461538  \n",
      "2        35.714286  \n",
      "3        35.714286  \n",
      "4        33.333333  \n",
      "5        33.333333  \n",
      "6        30.769231  \n",
      "7        25.000000  \n",
      "8        30.000000  \n",
      "9        36.363636  \n",
      "10       33.333333  \n"
     ]
    }
   ],
   "source": [
    "#7\n",
    "\n",
    "query = '''WITH ct AS (\n",
    "            SELECT o.raceid, racename, AVG(racetime) - 5 AS sub5, COUNT(*) as crg_cnt\n",
    "            FROM OUTCOME O JOIN RACE R ON O.RACEID = R.RACEID\n",
    "            GROUP BY RACENAME, o.raceid\n",
    "            ),\n",
    "            \n",
    "            ccnt AS (\n",
    "            SELECT o.raceid, racename, COUNT(*) as fstcrg_cnt\n",
    "            FROM OUTCOME O JOIN ct ON O.raceid = ct.raceid\n",
    "            WHERE racetime <= sub5\n",
    "            GROUP BY o.raceid, racename\n",
    "            )\n",
    "            \n",
    "            SELECT c.racename, AVG(racetime) as avg_racetime, sub5, fstcrg_cnt, crg_cnt, (CAST(fstcrg_cnt AS DECIMAL) / crg_cnt) * 100 AS fstcrg_percent\n",
    "            FROM ct JOIN OUTCOME o ON o.raceid = ct.raceid JOIN ccnt AS c ON c.raceid = ct.raceid\n",
    "            GROUP BY c.racename, sub5, fstcrg_cnt, crg_cnt\n",
    "            \n",
    "            \n",
    "            \n",
    "            \n",
    "            \n",
    "            \n",
    "            \n",
    "            \n",
    "\n",
    "            ;'''\n",
    "\n",
    "df = pd.read_sql(query, conn)\n",
    "\n",
    "print(df)"
   ]
  },
  {
   "cell_type": "code",
   "execution_count": 8,
   "id": "a7b46300",
   "metadata": {},
   "outputs": [
    {
     "name": "stdout",
     "output_type": "stream",
     "text": [
      "                    racename    racedate  males  females\n",
      "0             Del Mar Trophy  2018-06-03      8        4\n",
      "1             Memorial Derby  2018-06-17      4        6\n",
      "2                Dixie Derby  2018-06-24      5        7\n",
      "3               Missions Cup  2018-06-30      8        5\n",
      "4            Borderside Dash  2018-07-21      8        3\n",
      "5               Teton Runoff  2018-07-29      8        6\n",
      "6              Emerald Chase  2018-08-05      9        3\n",
      "7        Billings Grand Prix  2018-08-12      4        7\n",
      "8                  Idaho Cup  2018-08-19      8        5\n",
      "9            Bachelor Stakes  2018-08-26      6        6\n",
      "10  Golden Gate Invitational  2018-09-23      7        7\n"
     ]
    }
   ],
   "source": [
    "#8\n",
    "\n",
    "query = ''' SELECT racename, racedate, COUNT(CASE WHEN gender = 'M' or gender = 'NM' THEN 1 END) AS males, COUNT(CASE WHEN gender = 'F' or gender = 'SF' THEN 1 END) AS females\n",
    "            FROM CORGI c JOIN OUTCOME o ON c.corgid = o.corgid JOIN RACE r ON o.raceid = r.raceid\n",
    "            GROUP BY racename, racedate\n",
    "            ORDER BY racedate\n",
    "            \n",
    "            \n",
    "            ;'''\n",
    "\n",
    "df = pd.read_sql(query, conn)\n",
    "\n",
    "print(df)"
   ]
  },
  {
   "cell_type": "code",
   "execution_count": 9,
   "id": "efbcc572",
   "metadata": {},
   "outputs": [
    {
     "name": "stdout",
     "output_type": "stream",
     "text": [
      "                    racename    racedate                   corgname  \\\n",
      "0             Del Mar Trophy  2018-06-03                       Crow   \n",
      "1             Memorial Derby  2018-06-17                      Bucco   \n",
      "2                Dixie Derby  2018-06-24  Baroness von Fluffyshanks   \n",
      "3               Missions Cup  2018-06-30                      Bucco   \n",
      "4            Borderside Dash  2018-07-21                Gareth Bale   \n",
      "5               Teton Runoff  2018-07-29                    Oatmeal   \n",
      "6              Emerald Chase  2018-08-05                   Fruitcup   \n",
      "7        Billings Grand Prix  2018-08-12                      Sempo   \n",
      "8                  Idaho Cup  2018-08-19  Baroness von Fluffyshanks   \n",
      "9            Bachelor Stakes  2018-08-26                   Jedediah   \n",
      "10  Golden Gate Invitational  2018-09-23                Snarla June   \n",
      "\n",
      "    winning_time  \n",
      "0          41.26  \n",
      "1          44.89  \n",
      "2          40.74  \n",
      "3          40.73  \n",
      "4          42.75  \n",
      "5          48.33  \n",
      "6          42.99  \n",
      "7          42.59  \n",
      "8          44.00  \n",
      "9          40.07  \n",
      "10         40.10  \n"
     ]
    }
   ],
   "source": [
    "#9\n",
    "\n",
    "query = ''' WITH ct AS (\n",
    "            SELECT racename, racedate, o.raceid, MIN(racetime) winning_time\n",
    "            FROM OUTCOME o JOIN RACE r ON o.raceid = r.raceid\n",
    "            GROUP BY racename, racedate, o.raceid\n",
    "            )\n",
    "            \n",
    "            SELECT  racename, racedate, corgname, winning_time\n",
    "            FROM CORGI c JOIN OUTCOME o ON c.corgid = o.corgid JOIN ct ON o.raceid = ct.raceid AND racetime = winning_time\n",
    "            ORDER BY racedate\n",
    "            ;'''\n",
    "\n",
    "df = pd.read_sql(query, conn)\n",
    "\n",
    "print(df)\n"
   ]
  },
  {
   "cell_type": "code",
   "execution_count": 11,
   "id": "9201261f",
   "metadata": {
    "scrolled": true
   },
   "outputs": [
    {
     "name": "stdout",
     "output_type": "stream",
     "text": [
      "enter a corgid: 78\n",
      "Invalid corgid. Try again\n",
      "enter a corgid: dfjkl\n",
      "Invalid input\n",
      "enter a corgid: 22\n",
      "\n",
      " corgname    Fruitcup\n",
      "Name: 0, dtype: object\n",
      "                    racename    racedate  crg_cnt  usr_corgtime\n",
      "0             Del Mar Trophy  2018-06-03       12           NaN\n",
      "1             Memorial Derby  2018-06-17       10         47.97\n",
      "2                Dixie Derby  2018-06-24       12           NaN\n",
      "3               Missions Cup  2018-06-30       13         50.34\n",
      "4            Borderside Dash  2018-07-21       11           NaN\n",
      "5               Teton Runoff  2018-07-29       14         67.37\n",
      "6              Emerald Chase  2018-08-05       12         42.99\n",
      "7        Billings Grand Prix  2018-08-12       11         54.61\n",
      "8                  Idaho Cup  2018-08-19       13           NaN\n",
      "9            Bachelor Stakes  2018-08-26       12           NaN\n",
      "10  Golden Gate Invitational  2018-09-23       14           NaN\n"
     ]
    }
   ],
   "source": [
    "#10\n",
    "\n",
    "x = 0 \n",
    "\n",
    "while x == 0:\n",
    "    try:\n",
    "        usr = int(input('enter a corgid: '))\n",
    "        \n",
    "        if usr >= 1 and usr <= 25:\n",
    "\n",
    "            df = pd.read_sql('SELECT corgname FROM CORGI WHERE corgid = %d'% (usr), conn)\n",
    "            \n",
    "            print('\\n',df.loc[0])\n",
    "            \n",
    "            df2 = pd.read_sql('''\n",
    "            WITH ct AS(\n",
    "            SELECT o.raceid, racename, racedate, COUNT(*) as crg_cnt\n",
    "            FROM OUTCOME O JOIN RACE R ON O.RACEID = R.RACEID\n",
    "            GROUP BY RACENAME, o.raceid, racedate),\n",
    "            \n",
    "            ct2 AS (\n",
    "            SELECT raceid, racetime AS usr_corgtime\n",
    "            FROM OUTCOME\n",
    "            WHERE corgid = %d)\n",
    "            \n",
    "            SELECT racename, racedate, crg_cnt, usr_corgtime\n",
    "            FROM ct LEFT JOIN ct2 ON ct.raceid = ct2.raceid\n",
    "            ORDER BY racedate\n",
    "                                  \n",
    "                              \n",
    "                              \n",
    "                              '''% (usr), conn)\n",
    "            print(df2)\n",
    "            x = 1\n",
    "           \n",
    "             \n",
    "        else:\n",
    "            print('Invalid corgid. Try again')\n",
    "            \n",
    "    except:\n",
    "        print('Invalid input')\n"
   ]
  },
  {
   "cell_type": "markdown",
   "id": "c7beb06f",
   "metadata": {},
   "source": [
    "##### "
   ]
  }
 ],
 "metadata": {
  "kernelspec": {
   "display_name": "Python 3 (ipykernel)",
   "language": "python",
   "name": "python3"
  },
  "language_info": {
   "codemirror_mode": {
    "name": "ipython",
    "version": 3
   },
   "file_extension": ".py",
   "mimetype": "text/x-python",
   "name": "python",
   "nbconvert_exporter": "python",
   "pygments_lexer": "ipython3",
   "version": "3.11.5"
  }
 },
 "nbformat": 4,
 "nbformat_minor": 5
}
